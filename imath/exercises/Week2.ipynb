{
 "cells": [
  {
   "cell_type": "markdown",
   "metadata": {},
   "source": [
    "# Linear Algebra - Exercises 2"
   ]
  },
  {
   "cell_type": "markdown",
   "metadata": {},
   "source": [
    "## Nullspace\n",
    "Describe the nullspaces of these three matrices:\n",
    "$$A=\\left[\\begin{array}{ll}{1} & {2} \\\\ {3} & {8}\\end{array}\\right], \\quad B=\\left[\\begin{array}{ll}{A} & {2} \\\\ {3} & {8} \\\\ {2} & {4} \\\\ {6} & {16}\\end{array}\\right] \\text { and } C=\\left[\\begin{array}{lll}{A} & {2 A}\\end{array}\\right]=\\left[\\begin{array}{llll}{1} & {2} & {2} & {4} \\\\ {3} & {6} & {6} & {16}\\end{array}\\right]$$."
   ]
  },
  {
   "cell_type": "code",
   "execution_count": null,
   "metadata": {},
   "outputs": [],
   "source": []
  },
  {
   "cell_type": "markdown",
   "metadata": {},
   "source": [
    "## Reduced echelon form of a matrix\n",
    "What's the solution of the linear system\n",
    "$$\\begin{aligned} x &=1 \\\\ 4 x+3 y &=1 \\\\ 2 x+3 y &=-1 \\end{aligned}$$"
   ]
  },
  {
   "cell_type": "code",
   "execution_count": null,
   "metadata": {},
   "outputs": [],
   "source": []
  },
  {
   "cell_type": "markdown",
   "metadata": {},
   "source": [
    "## Again: reduced echelon form of a matrix\n",
    "Find the reduced echelon form of\n",
    "$$A=\\left[\\begin{array}{rrrr}{1} & {-1} & {2} & {3} \\\\ {2} & {2} & {8} & {10} \\\\ {3} & {3} & {10} & {13}\\end{array}\\right]$$\n",
    "\n",
    "What is the rank of $A$ and what is the special solution to $Ax = 0$"
   ]
  },
  {
   "cell_type": "code",
   "execution_count": null,
   "metadata": {},
   "outputs": [],
   "source": []
  },
  {
   "cell_type": "markdown",
   "metadata": {},
   "source": [
    "## Again: reduced echelon form of a matrix\n",
    "Find the reduced echelon form of\n",
    "$$A=\\left[\\begin{array}{rrrr}{1} & {-1} & {0} & {0} \\\\ {-1} & {2} & {-1} & {0} \\\\ {0} & {-1} & {2} & {-1} \\\\ {0} & {0} & {-1} & {1}\\end{array}\\right]$$\n",
    "\n",
    "What is the rank of $A$ and what is the special solution to $Ax = 0$"
   ]
  },
  {
   "cell_type": "code",
   "execution_count": null,
   "metadata": {},
   "outputs": [],
   "source": []
  },
  {
   "cell_type": "markdown",
   "metadata": {},
   "source": [
    "## Column space\n",
    "Describe the column spaces for\n",
    "$$\\boldsymbol{I}=\\left[\\begin{array}{ll}{1} & {0} \\\\ {0} & {1}\\end{array}\\right] \\quad \\text { and } \\quad \\boldsymbol{A}=\\left[\\begin{array}{ll}{1} & {2} \\\\ {2} & {4}\\end{array}\\right] \\quad \\text { and } \\quad \\boldsymbol{B}=\\left[\\begin{array}{lll}{1} & {2} & {3} \\\\ {0} & {0} & {4}\\end{array}\\right]$$"
   ]
  },
  {
   "cell_type": "code",
   "execution_count": null,
   "metadata": {},
   "outputs": [],
   "source": []
  },
  {
   "cell_type": "markdown",
   "metadata": {},
   "source": [
    "## Again: column space\n",
    "We are given three different vectors $b_1, b_2, b_3$. Construct a matrix so that the quations $Ax = b_1$ and $Ax = b_2$ are solvable, but $Ax = b_3$ is not solvable. How can you decide if this is possible? How could you construct $A$?"
   ]
  },
  {
   "cell_type": "code",
   "execution_count": null,
   "metadata": {},
   "outputs": [],
   "source": []
  },
  {
   "cell_type": "markdown",
   "metadata": {},
   "source": [
    "## Complete Solution of a linear system\n",
    "Find the condition $[b_1 \\ b_2 \\ b_3]^T$ for $Ax=b$ to be solvable, if\n",
    "$$A=\\left[\\begin{array}{cc}{1} & {1} \\\\ {1} & {2} \\\\ {-2} & {-3}\\end{array}\\right] \\quad \\text { and } \\quad \\mathbf{b}=\\left[\\begin{array}{l}{b_{1}} \\\\ {b_{2}} \\\\ {b_{3}}\\end{array}\\right]$$\n",
    "\n",
    "This condition puts $b$ in the column space of $A$. Find the complete solution $x = x_p + x_n$ to $Ax = b$."
   ]
  },
  {
   "cell_type": "code",
   "execution_count": null,
   "metadata": {},
   "outputs": [],
   "source": []
  },
  {
   "cell_type": "markdown",
   "metadata": {},
   "source": [
    "## Again: Complete Solution of a linear system\n",
    "There are $n=3$ unknowns but only $m=2$ equations:\n",
    "$$\\begin{array}{l}{x+y+z=3} \\\\ {x+2 y-z=4}\\end{array}$$\n",
    "\n",
    "These are two planes in the $xyz$-space. The planes are not parallel, so they intersect in a line. This line of solutions is exactly what elimination will find. The particular solution will be a point on the line. Adding the nullsapce vector $x_n$ will move us along the line. Then $x = x_p + x_n$ gives the whole line of solutions.\n",
    "\n",
    "Answer the following questions:\n",
    "  - Compute the reduced row echelon form $[R d]$ of the augmented matrix $[A b]$.\n",
    "  - Looking at $[R d]$ can you see, whether the linear system has a solution?\n",
    "  - What is the rank of $A$?\n",
    "  - Compute the special solution $x_s$ of $Ax=0$\n",
    "  - Compute the complete solution of $Ax=b$. Draw this solution in a 3D-plot.\n",
    "  - Why is the particular solution not multiplied by a constant, wheras the special solution is?"
   ]
  },
  {
   "cell_type": "code",
   "execution_count": null,
   "metadata": {},
   "outputs": [],
   "source": []
  },
  {
   "cell_type": "markdown",
   "metadata": {},
   "source": [
    "## Again: Complete Solution of a linear system\n",
    "The complete solution to $Ax = [{1} \\ {3}]^T$ is $x=[{1} \\ {0}]^T + c[0 \\ 1]^T$. Find $A$, it's rank and the reduced echelon form of the augmented matrix."
   ]
  },
  {
   "cell_type": "code",
   "execution_count": null,
   "metadata": {},
   "outputs": [],
   "source": []
  },
  {
   "cell_type": "markdown",
   "metadata": {},
   "source": [
    "## Trick to find the nullspace\n",
    "Suppose the first $r$ columns are pivot columns. Then the reduced row echelon form looks like\n",
    "$$\\boldsymbol{R}=\\left[\\begin{array}{ll}{\\boldsymbol{I}} & {\\boldsymbol{F}} \\\\ {\\mathbf{0}} & {\\mathbf{0}}\\end{array}\\right]$$\n",
    "where $I$ is the $r \\times r$ identity matrix with the r privot columns (and $r$ pivot rows), $F$ is an $r \\times (n - r)$ matrix and the matrices $0$ are filled with zeros.\n",
    "\n",
    "Then the columns of the nullspace matrix\n",
    "$$N=\\left[\\begin{array}{c}{-\\boldsymbol{F}} \\\\ {\\boldsymbol{I}}\\end{array}\\right]$$\n",
    "solve $Rx = 0$\n",
    "\n",
    "Let's try this in a numerical example. The special solution of $Rx = x_1 + 2x_3 + 3x_3 = 0$ are the columns of $N$:\n",
    "$$\\boldsymbol{R}=\\left[\\begin{array}{lll}{1} & {2} & {3}\\end{array}\\right] \\quad \\boldsymbol{N}=\\left[\\begin{array}{r}{-\\boldsymbol{F}} \\\\ {\\boldsymbol{I}}\\end{array}\\right]=\\left[\\begin{array}{cc}{-2} & {-3} \\\\ {1} & {0} \\\\ {0} & {1}\\end{array}\\right]$$\n",
    "\n",
    "It's easy to see, that the columns of $N$ satisfy the equation!."
   ]
  },
  {
   "cell_type": "code",
   "execution_count": null,
   "metadata": {},
   "outputs": [],
   "source": []
  },
  {
   "cell_type": "markdown",
   "metadata": {},
   "source": [
    "## The fundamental theorem of linear algebra"
   ]
  },
  {
   "cell_type": "markdown",
   "metadata": {},
   "source": [
    "The matrix $A=\\left[\\begin{array}{lll}{1} & {2} & {3} \\\\ {2} & {4} & {6}\\end{array}\\right]$ has $m=2, n=3$ and $r = 1$.\n",
    "\n",
    "The row space is the line along $[1 \\ 2 \\ 3]^T$. The nullspace is the plane $x_1 + 2x_2 + 3x_3 = 0$. Their dimensions add to $1+2 = 3$.\n",
    "\n",
    "All columns are multiples of the first column $[1 \\ 2]^T$. Therefore $A^Ty=0$ has the solution $y=[2 \\ -1]^T$. The column space and left nullspace are orthogonal lines in $\\mathbb{R}^{2}$. Dinensions $1+1=2$.\n",
    "\n",
    "If $A$ has three equal rows, what is its rank? And what are two of the $y$'s in its left nullspace, i.e. the nullspace of $A^T$?"
   ]
  },
  {
   "cell_type": "code",
   "execution_count": null,
   "metadata": {},
   "outputs": [],
   "source": []
  }
 ],
 "metadata": {
  "kernelspec": {
   "display_name": "Octave",
   "language": "octave",
   "name": "octave"
  },
  "language_info": {
   "file_extension": ".m",
   "help_links": [
    {
     "text": "GNU Octave",
     "url": "https://www.gnu.org/software/octave/support.html"
    },
    {
     "text": "Octave Kernel",
     "url": "https://github.com/Calysto/octave_kernel"
    },
    {
     "text": "MetaKernel Magics",
     "url": "https://metakernel.readthedocs.io/en/latest/source/README.html"
    }
   ],
   "mimetype": "text/x-octave",
   "name": "octave",
   "version": "5.1.0"
  }
 },
 "nbformat": 4,
 "nbformat_minor": 4
}
