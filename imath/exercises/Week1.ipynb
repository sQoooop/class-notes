{
 "cells": [
  {
   "cell_type": "markdown",
   "metadata": {},
   "source": [
    "# Linear Algebra - Exercises 1"
   ]
  },
  {
   "cell_type": "markdown",
   "metadata": {},
   "source": [
    "## Schwarz inequality and dot product\n",
    "If $||v|| = 5$ and $||w|| = 3$, what are the smallest and largest values of $||v-w||$? What are the smallest and largest values of $v \\bullet w$?"
   ]
  },
  {
   "cell_type": "markdown",
   "metadata": {},
   "source": [
    "The smallest value of $||v - w||$ is given when $v$ and $w$ point into the opposite direction, where $5 - 3 = 2$, with $\\theta = 180°$, and the largest is given when they are parallel, where $5 + 3 = 8$.\n",
    "\n",
    "Given the schwarz inequality $|v \\bullet w| \\leq ||v||\\cdot||w||$, we know that the smallest value is $-1 \\cdot ||v||\\cdot||w|| = -15$ when the angle between the two vectors is $\\theta = 180°$, the vectors are parallel and facing in opposite directions, wheres the largest value is $||v||\\cdot||w|| = 15$ when the angle between the two vectors is $\\theta = 180°$, the vectors are parallel and facing in the same directions. For the largest value we can find $v = \\left[\\begin{array}{r}{\\sqrt{12.5}}\\\\ {\\sqrt{12.5}}\\end{array}\\right], w = \\left[\\begin{array}{r}{\\sqrt{4.5}}\\\\ {\\sqrt{4.5}}\\end{array}\\right]$. For the smallest value we can find $v = \\left[\\begin{array}{r}{-\\sqrt{12.5}}\\\\ {\\sqrt{12.5}}\\end{array}\\right], w = \\left[\\begin{array}{r}{\\sqrt{4.5}}\\\\ {-\\sqrt{4.5}}\\end{array}\\right]$."
   ]
  },
  {
   "cell_type": "markdown",
   "metadata": {},
   "source": [
    "## Unit vectors\n",
    "Find four perpendicular unit vectors with all components equal to $1/2$ or $-1/2$.\n"
   ]
  },
  {
   "cell_type": "markdown",
   "metadata": {},
   "source": [
    "In order to get four perpendicular vectors the equation $a_1b_1 + a_2b_2 + a_3b_3 + a_4b_4 = 0$ must hold for all combinations of the four vectors. We can use four vectors with one component equal to $-1/2$ at a distinct distinct position\n",
    "$$u_1 = \\left[\\begin{array}{r}{-1/2}\\\\ {1/2}\\\\ {1/2}\\\\ {1/2}\\end{array}\\right], u_2 = \\left[\\begin{array}{r}{1/2}\\\\ {-1/2}\\\\ {1/2}\\\\ {1/2}\\end{array}\\right], u_3 = \\left[\\begin{array}{r}{1/2}\\\\ {1/2}\\\\ {-1/2}\\\\ {1/2}\\end{array}\\right], u_4 = \\left[\\begin{array}{r}{1/2}\\\\ {1/2}\\\\ {1/2}\\\\ {-1/2}\\end{array}\\right]$$"
   ]
  },
  {
   "cell_type": "markdown",
   "metadata": {},
   "source": [
    "## Unit vectors in a clock\n",
    "Find unit vectors $h(t)$ and $m(t)$ in the direction of the hour and minute hands of a clock, where $t$ denotes the elapsed time in hours. If $t = 0$ represents noon then $m(0)=h(0)=\\left[\\begin{array}{ll}{0} & {1}\\end{array}\\right]^{T}$.\n",
    "\n",
    "At what time will the hands of the clock first be perpendicular? At what time after noon will the hands first form a straight line?\n"
   ]
  },
  {
   "cell_type": "markdown",
   "metadata": {},
   "source": [
    "The variable $t$ is interpreted as the time in hours. The key aspect for solving this exercise is the unit circle (see below or [see plot on Desmos](https://www.desmos.com/calculator/zvp8dfl76q)).\n",
    "\n",
    "![Desmos plot of unit circle with point of first perpendicularity](assets/03a_unitcircle.gif)\n",
    "\n",
    "$$m(0) = h(0) =\\left[\\begin{array}{r}{0}\\\\ {1}\\end{array}\\right]$$\n",
    "\n",
    "The minute hand will change complete a whole round ($2 \\dot \\pi$) for $\\Delta{t}=1$. The hour hand will be $\\frac{1}{12}$ as fast. \n",
    "This leaves us with the following vectors for $t$:\n",
    "\n",
    "$${m(t)}=\\left[\\begin{array}{r}{sin(2 \\dot \\pi \\dot t)}\\\\ {cos(2 \\dot \\pi \\dot t)}\\end{array}\\right] $$\n",
    "\n",
    "$${h(t)}=\\left[\\begin{array}{r}{sin(\\frac{\\pi \\dot t}{6})}\\\\ {cos(\\frac{\\pi \\dot t}{6})}\\end{array}\\right] $$\n",
    "\n",
    "The dot product has to equal zero in order for the two hands to be perpendicular to each other:\n",
    "\n",
    "$$ m(t) \\cdot h(t) = sin(2\\pi) \\dot sin(\\frac{\\pi\\dot t}{6}) + cos(2\\pi) \\dot cos(\\frac{\\pi\\dot t}{6})\n",
    "= cos(2\\dot\\pi - \\frac{\\pi\\dot t}{6}) = cos(\\frac{11\\dot\\pi\\dot t}{6}) $$\n",
    "\n",
    "The cosine equals zero for negative or positive $\\frac{\\pi}{2}$ (look at the green line in the GIF above). \n",
    "Hence, we deduce the value for $t$:\n",
    "\n",
    "$$\\frac{11\\dot\\pi}{6}\\dot t = \\frac{\\pi}{2}$$\n",
    "\n",
    "$$t = \\frac{\\pi}{2} \\cdot \\frac{6}{11\\dot\\pi} = \\frac{3}{11}$$"
   ]
  },
  {
   "cell_type": "code",
   "execution_count": 33,
   "metadata": {},
   "outputs": [
    {
     "name": "stdout",
     "output_type": "stream",
     "text": [
      "The minute hand has wandered along the clock for 1.7136 radiants.\n",
      "Accordingly, the time passed is 16.3636 minutes."
     ]
    }
   ],
   "source": [
    "t = 3/11;\n",
    "minuteHand = [sin(2*t*pi) cos(2*t*pi)]';\n",
    "\n",
    "# Then, we can use the formula to get to the angle between the noon hand and the current hand.\n",
    "noon = [0 1]';\n",
    "angle = (dot(noon,minuteHand)/(1*sqrt(dot(minuteHand,minuteHand))));\n",
    "arc = acos(angle);\n",
    "\n",
    "printf(\"The minute hand has wandered along the clock for %d radiants.\\n\", arc)\n",
    "\n",
    "# The angle result is in radiants. As this is the unit circle, it is equal to the length of the arc.\n",
    "percentile = arc / (2*pi);\n",
    "minutes = percentile * 60;\n",
    "\n",
    "printf(\"Accordingly, the time passed is %d minutes.\", minutes)"
   ]
  },
  {
   "cell_type": "markdown",
   "metadata": {},
   "source": [
    "To get to the time, when the two hands first point into the exactly opposite direction, we solve for the value of t when the cosine is equal to 1 or -1.\n",
    "\n",
    "$$cos(\\frac{11\\dot\\pi\\dot t}{6}) = 1 \\rightarrow \\frac{11\\dot\\pi\\dot t}{6} = \\pi \\rightarrow t = \\frac{6}{11} $$"
   ]
  },
  {
   "cell_type": "code",
   "execution_count": 32,
   "metadata": {},
   "outputs": [
    {
     "name": "stdout",
     "output_type": "stream",
     "text": [
      "The minute hand has wandered along the clock for 3.42719 radiants.\n",
      "Accordingly, the time passed is 32.7273 minutes."
     ]
    }
   ],
   "source": [
    "t = 6/11;\n",
    "minuteHand = [sin(2*t*pi) cos(2*t*pi)]';\n",
    "\n",
    "# Then, we can use the formula to get to the angle between the noon hand and the current hand.\n",
    "noon = [0 1]';\n",
    "angle = (dot(noon,minuteHand)/(1*sqrt(dot(minuteHand,minuteHand))));\n",
    "arc = 2*pi - acos(angle);\n",
    "printf(\"The minute hand has wandered along the clock for %d radiants.\\n\", arc)\n",
    "\n",
    "# The angle result is in radiants. As this is the unit circle, it is equal to the length of the arc.\n",
    "percentile = arc / (2*pi);\n",
    "minutes = (percentile * 60);\n",
    "\n",
    "printf(\"Accordingly, the time passed is %d minutes.\", minutes)"
   ]
  },
  {
   "cell_type": "markdown",
   "metadata": {},
   "source": [
    "## Row and column picture of linear equations\n",
    "Try to solve the system of two equations:\n",
    "$$\\begin{array}{c}{x-2 y=1} \\\\ {3 x+2 y=11}\\end{array}$$\n",
    "in the two unknowns $x$ and $y$ using the row picture and the column picture. Despict both methods in the $(x,y)$-plane."
   ]
  },
  {
   "cell_type": "code",
   "execution_count": 39,
   "metadata": {},
   "outputs": [
    {
     "name": "stdout",
     "output_type": "stream",
     "text": [
      "ans =\n",
      "\n",
      "   1   0   3\n",
      "   0   1   1\n",
      "\n"
     ]
    }
   ],
   "source": [
    "A = [1 -2;3 2];\n",
    "b = [1 11]';\n",
    "rref([A b])"
   ]
  },
  {
   "cell_type": "markdown",
   "metadata": {},
   "source": [
    "Accordingly, here are the row and column picture:\n",
    "\n",
    "![plot column and row picture](assets/04_pictures.png)"
   ]
  },
  {
   "cell_type": "markdown",
   "metadata": {},
   "source": [
    "## Elimination\n",
    "What multiple $l_{21}$ of equation $1$ should be subtracted from equation $2$?\n",
    "$$\\begin{aligned} 2 x+3 y &=1 \\\\ 10 x+9 y &=11 \\end{aligned}$$\n",
    "After the elimination step, write down the upper triangular system and circle the two pivots.\n"
   ]
  },
  {
   "cell_type": "markdown",
   "metadata": {},
   "source": [
    "By using $l_{21} = 5$ we get $\\begin{array}{c}{2 x+3 y=1} \\\\ {-6 y=6}\\end{array}$, which is the upper triangular system $U = \\left[ \\begin{array} {rr}\n",
    "2 & 3  \\\\\n",
    "0 & -6 \n",
    "\\end{array}\\right]$. The two pivots are respectively $2, -6$ on the diagonal axis."
   ]
  },
  {
   "cell_type": "markdown",
   "metadata": {},
   "source": [
    "## Back substitution\n",
    "Solve the triangular system of the previous problem by back substitution, $y$ before $x$. Verify that $x$ times the first column of the original coefficient matrix plus $y$ times the second column equals the right hand side. If the right hand side changes to $[4,44]$, what is the new solution?"
   ]
  },
  {
   "cell_type": "markdown",
   "metadata": {},
   "source": [
    "We multiply the second equation with $-6^{-1}$ to get $y = -1$. In the first equation we substitute $y$, add by $+3$ and multiply by $2^{-1}$ on both sides to get $x = 2$."
   ]
  },
  {
   "cell_type": "code",
   "execution_count": 16,
   "metadata": {},
   "outputs": [],
   "source": [
    "x = 2; y = -1;\n",
    "\n",
    "# We verify our results\n",
    "assert(2*x + 3*y == 1)\n",
    "assert(10*x + 9*y == 11)"
   ]
  },
  {
   "cell_type": "markdown",
   "metadata": {},
   "source": [
    "If the right hand side changes to $[4, 44]$ the system of equations for the upper triangular system changes to $\\begin{array}{c}{2 x+3 y=4} \\\\ {-6 y=24}\\end{array}$, we proceed as before and get $x = 8,y = -4$."
   ]
  },
  {
   "cell_type": "code",
   "execution_count": 19,
   "metadata": {},
   "outputs": [],
   "source": [
    "x = 8; y = -4;\n",
    "\n",
    "# We verify our results\n",
    "assert(2*x + 3*y == 4)\n",
    "assert(10*x + 9*y == 44)"
   ]
  },
  {
   "cell_type": "markdown",
   "metadata": {},
   "source": [
    "## Elimination with 3 equations\n",
    "Reduce this system to upper triangular form by two row operations:\n",
    "$$\\begin{aligned} 2 x-3 y &=8 \\\\ 4 x-7 y+z &=20 \\\\-2 y+2 z &=0 \\end{aligned}$$\n",
    "Circle the pivots. Solve by back substitution for z, y and x."
   ]
  },
  {
   "cell_type": "markdown",
   "metadata": {},
   "source": [
    "By using the fact that $y = z$, from the third equation, we substitute $z$ in the second equation with $y$. This gives us the following system of equations:\n",
    "$$\\begin{aligned} 2 x-3 y &=8 \\\\ 4 x-6 y &=20 \\\\-2 y+2 z &=0 \\end{aligned}$$"
   ]
  },
  {
   "cell_type": "markdown",
   "metadata": {},
   "source": [
    "To reduce this system to upper triangular form we switch the second equation with the with the third and multiply the thrid quation with twice the first equation. This gives us the systems upper triangular form (which is unsolvable because of a free paramter):\n",
    "$$\\begin{aligned} 2 x-3 y &=8 \\\\ -2 y+2 z &=0 \\\\ 0 &= 4 \\end{aligned}$$"
   ]
  },
  {
   "cell_type": "markdown",
   "metadata": {},
   "source": [
    "## Elimination for 3D matrices\n",
    "Solve the system of equations of the previous problem using the matrix notation. What are the corresponding elimination matrices? Multiply the elimination matrices (from the left) with the coefficient matrix $A$. Do you get an upper triangular matrix?"
   ]
  },
  {
   "cell_type": "markdown",
   "metadata": {},
   "source": [
    "Given the coefficient matrix $A = \\left[ \\begin{array} {rrr}\n",
    "2 & -3 & 0 \\\\\n",
    "4 & -7 & 1 \\\\\n",
    "0 & -2 & 2\n",
    "\\end{array}\\right]$, we can decompose it into an upper triangular matrix by using the elimination matrix $E = \\left[ \\begin{array} {rrr}\n",
    "1 & 0 & 0 \\\\\n",
    "-2 & 1 & 0 \\\\\n",
    "4 & -2 & 1\n",
    "\\end{array}\\right]$."
   ]
  },
  {
   "cell_type": "code",
   "execution_count": 25,
   "metadata": {},
   "outputs": [
    {
     "name": "stdout",
     "output_type": "stream",
     "text": [
      "A =\n",
      "\n",
      "   2  -3   0\n",
      "   4  -7   1\n",
      "   0  -2   2\n",
      "\n",
      "E =\n",
      "\n",
      "   1   0   0\n",
      "  -2   1   0\n",
      "   4  -2   1\n",
      "\n",
      "ans =\n",
      "\n",
      "   2  -3   0\n",
      "   0  -1   1\n",
      "   0   0   0\n",
      "\n"
     ]
    }
   ],
   "source": [
    "# We verify our results\n",
    "A = [2 -3 0 ; 4 -7 1 ; 0 -2 2]\n",
    "E = [1 0 0 ; -2 1 0 ; 4 -2 1]\n",
    "E*A"
   ]
  },
  {
   "cell_type": "markdown",
   "metadata": {},
   "source": [
    "## Matrix for Row Exchange\n",
    "Considering the coefficient matrix of the last problem; what matrix $P_{ij}$ exchanges row $2$ with row $3$?"
   ]
  },
  {
   "cell_type": "markdown",
   "metadata": {},
   "source": [
    "It's the permutation matrix $P_{23} = \\left[ \\begin{array} {rrr}\n",
    "1 & 0 & 0 \\\\\n",
    "0 & 0 & 1 \\\\\n",
    "0 & 1 & 0\n",
    "\\end{array}\\right]$"
   ]
  },
  {
   "cell_type": "markdown",
   "metadata": {},
   "source": [
    "## Gauss-Jordan\n",
    "Compute the inverse $A^{-1}$ of $\\boldsymbol{A}=\\left[\\begin{array}{rrr}{1} & {0} & {0} \\\\ {-1} & {1} & {0} \\\\ {0} & {-1} & {1}\\end{array}\\right]$. \n",
    "\n",
    "Check the result by computing $A^{-1}A$.\n",
    "\n",
    "Difficult addon: When does the inverse of a matrix not exist?"
   ]
  },
  {
   "cell_type": "markdown",
   "metadata": {},
   "source": [
    "We extend $A$ with $I_3$ $\\left[\\begin{array}{rrr|rrr}{1} & {0} & {0} & 1 & 0 & 0 \\\\ {-1} & {1} & {0} & 0 & 1 & 0 \\\\ {0} & {-1} & {1} & 0 & 0 & 1\\end{array}\\right]$ and apply the row transformations $L_{12}$, $L_{13}$ and $L_{23}$ to transform the lefthand side into the identity matrix. The righthand side being $L_{23} \\cdot L_{13} \\cdot L_{12} \\cdot I_3 = A^{-1}=\\left[\\begin{array}{rrr}{1} & {0} & {0} \\\\ {1} & {1} & {0} \\\\ {1} & {1} & {1}\\end{array}\\right]$"
   ]
  },
  {
   "cell_type": "code",
   "execution_count": 35,
   "metadata": {},
   "outputs": [
    {
     "name": "stdout",
     "output_type": "stream",
     "text": [
      "A =\n",
      "\n",
      "   1   0   0\n",
      "  -1   1   0\n",
      "   0  -1   1\n",
      "\n",
      "A_inv1 =\n",
      "\n",
      "   1   0   0   1   0   0\n",
      "   0   1   0   1   1   0\n",
      "   0   0   1   1   1   1\n",
      "\n",
      "A_inv2 =\n",
      "\n",
      "   1   0   0\n",
      "   1   1   0\n",
      "   1   1   1\n",
      "\n"
     ]
    }
   ],
   "source": [
    "# We verify our results\n",
    "A = [1 0 0 ; -1 1 0 ; 0 -1 1]\n",
    "A_inv1 = rref([A eye(3)])\n",
    "A_inv2 = inv(A)"
   ]
  },
  {
   "cell_type": "markdown",
   "metadata": {},
   "source": [
    "## The augmented matrix\n",
    "Write down the augmented matrix $[A b]$ with an extra column:\n",
    "$$\\begin{aligned} x+2 y+2 z &=1 \\\\ 4 x+8 y+9 z &=3 \\\\ 3 y+2 z &=1 \\end{aligned}$$\n",
    "\n",
    "Apply $E_{21}$ and $P_{32}$ to reach a triangular system. Solve by back substitution. What combined matrix $P_{32}E_{21}$ will do both steps at once?"
   ]
  },
  {
   "cell_type": "markdown",
   "metadata": {},
   "source": [
    "The augmented matrix $[Ab] = \\left[\\begin{array}{rrr|r} {1} & {2} & {2} & 1 \\\\ {4} & {8} & {9} & 3 \\\\ {0} & {3} & {2} & 1 \\end{array}\\right]$ can be reduced into a triangular system by applying $E_{21} = \\left[\\begin{array}{rrr} {1} & {0} & {0} \\\\ {-4} & {1} & {0} \\\\ {0} & {0} & {1} \\end{array}\\right]$ and $P_{32} = \\left[\\begin{array}{rrr} {1} & {0} & {0} \\\\ {0} & {0} & {1} \\\\ {0} & {1} & {0} \\end{array}\\right]$:\n",
    "$$\\\\$$\n",
    "$$P_{32} \\cdot E_{21} \\cdot [Ab] = \\left[\\begin{array}{rrr|r} {1} & {2} & {2} & 1 \\\\ {0} & {3} & {2} & 1 \\\\ {0} & {0} & {1} & {-1} \\end{array}\\right]$$\n",
    "\n",
    "By back substitution we get $x = 1, y = 1, z = -1$.\n",
    "\n",
    "The combined matrix $P_{32}E_{21} = \\left[\\begin{array}{rrr} {1} & {0} & {0} \\\\ {0} & {0} & {1} \\\\ {-4} & {1} & {0} \\end{array}\\right]$  is both transformation matrices multiplyed. "
   ]
  },
  {
   "cell_type": "markdown",
   "metadata": {},
   "source": [
    "## LU-Factorization\n",
    "Write down the LU-factorization of the coefficient matrix of the previous problem."
   ]
  },
  {
   "cell_type": "markdown",
   "metadata": {},
   "source": [
    "We can factorize the coefficient matrix of $A$ with partial pivoting using row permutations only: $PA = LU$. From the previous exercise we know that $P = \\left[\\begin{array}{rrr} {1} & {0} & {0} \\\\ {0} & {0} & {1} \\\\ {0} & {1} & {0} \\end{array}\\right]$ and $U = \\left[\\begin{array}{rrr} {1} & {2} & {2} \\\\ {0} & {3} & {2} \\\\ {0} & {0} & {1} \\end{array}\\right]$ thus we can tediously get $L$ by calculating $L=PAU^{-1}=\\left[\\begin{array}{rrr} {1} & {0} & {0} \\\\ {0} & {1} & {0} \\\\ {4} & {0} & {1} \\end{array}\\right]$."
   ]
  },
  {
   "cell_type": "code",
   "execution_count": 47,
   "metadata": {},
   "outputs": [
    {
     "name": "stdout",
     "output_type": "stream",
     "text": [
      "P =\n",
      "\n",
      "   1   0   0\n",
      "   0   0   1\n",
      "   0   1   0\n",
      "\n",
      "A =\n",
      "\n",
      "   1   2   2\n",
      "   4   8   9\n",
      "   0   3   2\n",
      "\n",
      "L =\n",
      "\n",
      "   1   0   0\n",
      "   0   1   0\n",
      "   4   0   1\n",
      "\n",
      "U =\n",
      "\n",
      "   1   2   2\n",
      "   0   3   2\n",
      "   0   0   1\n",
      "\n"
     ]
    }
   ],
   "source": [
    "# We verify our results\n",
    "P = [1 0 0 ; 0 0 1 ; 0 1 0]\n",
    "A = [1 2 2 ; 4 8 9 ; 0 3 2]\n",
    "\n",
    "L = [1 0 0 ; 0 1 0 ; 4 0 1]\n",
    "U = [1 2 2 ; 0 3 2 ; 0 0 1]\n",
    "\n",
    "assert(P*A == L*U)"
   ]
  },
  {
   "cell_type": "markdown",
   "metadata": {},
   "source": [
    "## Reducing to row echelon form using Octave\n",
    "The following Octave function reduces an $m \\times n$-matrix (with $m = n$) to row echelon form. Test the code using the previous problems!"
   ]
  },
  {
   "cell_type": "code",
   "execution_count": 46,
   "metadata": {},
   "outputs": [
    {
     "name": "stdout",
     "output_type": "stream",
     "text": [
      "A =\n",
      "\n",
      "   1   2   2\n",
      "   4   8   9\n",
      "   0   3   2\n",
      "\n",
      "U =\n",
      "\n",
      "   1   2   2\n",
      "   0   8   9\n",
      "   0   0   2\n",
      "\n",
      "L =\n",
      "\n",
      "   1   0   0\n",
      "   4   1   0\n",
      "   0   3   1\n",
      "\n",
      "error: assert (L * U == A) failed\n",
      "error: called from\n",
      "    assert at line 92 column 11\n"
     ]
    }
   ],
   "source": [
    "m = 3; \n",
    "n = 3;\n",
    "A = [1 2 2 ; 4 8 9 ; 0 3 2]\n",
    "function [L U] = RowEchelonForm(A)\n",
    "  [m, n] = size(A)\n",
    "\n",
    "  for k=1:m\n",
    "    for i=k+1:m\n",
    "      fact = A(i,k)/A(k,k); \n",
    "      for j=k:n\n",
    "        A(i,j) = A(i,j) - fact*A(k,j);\n",
    "      end\n",
    "      A(i,k) = fact;\n",
    "    end \n",
    "  end\n",
    "endfunction\n",
    "\n",
    "U = triu(A);\n",
    "U\n",
    "L = tril(A,-1) + eye(m,n);\n",
    "L\n",
    "assert(L*U == A)"
   ]
  },
  {
   "cell_type": "code",
   "execution_count": null,
   "metadata": {},
   "outputs": [],
   "source": []
  }
 ],
 "metadata": {
  "kernelspec": {
   "display_name": "Octave",
   "language": "octave",
   "name": "octave"
  },
  "language_info": {
   "file_extension": ".m",
   "help_links": [
    {
     "text": "GNU Octave",
     "url": "https://www.gnu.org/software/octave/support.html"
    },
    {
     "text": "Octave Kernel",
     "url": "https://github.com/Calysto/octave_kernel"
    },
    {
     "text": "MetaKernel Magics",
     "url": "https://metakernel.readthedocs.io/en/latest/source/README.html"
    }
   ],
   "mimetype": "text/x-octave",
   "name": "octave",
   "version": "5.1.0"
  }
 },
 "nbformat": 4,
 "nbformat_minor": 4
}
