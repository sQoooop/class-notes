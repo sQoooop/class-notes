{
 "cells": [
  {
   "cell_type": "markdown",
   "metadata": {},
   "source": [
    "# Linear Algebra - Exercises 1"
   ]
  },
  {
   "cell_type": "markdown",
   "metadata": {},
   "source": [
    "## Schwarz inequality and dot product\n",
    "If $||v|| = 5$ and $||w|| = 3$, what are the smallest and largest values of $||v-w||$? What are the smallest and largest values of $v \\bullet w$?"
   ]
  },
  {
   "cell_type": "code",
   "execution_count": null,
   "metadata": {},
   "outputs": [],
   "source": []
  },
  {
   "cell_type": "markdown",
   "metadata": {},
   "source": [
    "## Unit vectors\n",
    "Find four perpendicular unit vectors with all components equal to $1/2$ or $-1/2$.\n"
   ]
  },
  {
   "cell_type": "code",
   "execution_count": null,
   "metadata": {},
   "outputs": [],
   "source": []
  },
  {
   "cell_type": "markdown",
   "metadata": {},
   "source": [
    "## Unit vectors in a clock\n",
    "Find unit vectors $h(t)$ and $m(t)$ in the direction of the hour and minute hands of a clock, where $t$ denotes the elapsed time in hours. If $t = 0$ represents noon then $m(0)=h(0)=\\left[\\begin{array}{ll}{0} & {1}\\end{array}\\right]^{T}$.\n",
    "\n",
    "At what time will the hands of the clock first be perpendicular? At what time after noon will the hands first form a straight line?\n"
   ]
  },
  {
   "cell_type": "markdown",
   "metadata": {},
   "source": [
    "The variable $t$ is interpreted as the time in hours. The key aspect for solving this exercise is the unit circle (see below or [see plot on Desmos](https://www.desmos.com/calculator/zvp8dfl76q)).\n",
    "\n",
    "![Desmos plot of unit circle with point of first perpendicularity](assets/03a_unitcircle.gif)\n",
    "\n",
    "$$m(0) = h(0) =\\left[\\begin{array}{r}{0}\\\\ {1}\\end{array}\\right]$$\n",
    "\n",
    "The minute hand will change complete a whole round ($2 \\dot \\pi$) for $\\Delta{t}=1$. The hour hand will be $\\frac{1}{12}$ as fast. \n",
    "This leaves us with the following vectors for $t$:\n",
    "\n",
    "$${m(t)}=\\left[\\begin{array}{r}{sin(2 \\dot \\pi \\dot t)}\\\\ {cos(2 \\dot \\pi \\dot t)}\\end{array}\\right] $$\n",
    "\n",
    "$${h(t)}=\\left[\\begin{array}{r}{sin(\\frac{\\pi \\dot t}{6})}\\\\ {cos(\\frac{\\pi \\dot t}{6})}\\end{array}\\right] $$\n",
    "\n",
    "The dot product has to equal zero in order for the two hands to be perpendicular to each other:\n",
    "\n",
    "$$ m(t) \\cdot h(t) = sin(2\\pi) \\dot sin(\\frac{\\pi\\dot t}{6}) + cos(2\\pi) \\dot cos(\\frac{\\pi\\dot t}{6})\n",
    "= cos(2\\dot\\pi - \\frac{\\pi\\dot t}{6}) = cos(\\frac{11\\dot\\pi\\dot t}{6}) $$\n",
    "\n",
    "The cosine equals zero for negative or positive $\\frac{\\pi}{2}$ (look at the green line in the GIF above). \n",
    "Hence, we deduce the value for $t$:\n",
    "\n",
    "$$\\frac{11\\dot\\pi}{6}\\dot t = \\frac{\\pi}{2}$$\n",
    "\n",
    "$$t = \\frac{\\pi}{2} \\cdot \\frac{6}{11\\dot\\pi} = \\frac{3}{11}$$"
   ]
  },
  {
   "cell_type": "code",
   "execution_count": 17,
   "metadata": {},
   "outputs": [
    {
     "name": "stdout",
     "output_type": "stream",
     "text": [
      "The minute hand has wandered along the clock for 1.7136 radiants.\n",
      "Accordingly, the time passed is 16.3636 minutes."
     ]
    }
   ],
   "source": [
    "t = 3/11;\n",
    "minuteHand = [sin(2*t*pi) cos(2*t*pi)]';\n",
    "\n",
    "# Then, we can use the formula to get to the angle between the noon hand and the current hand.\n",
    "noon = [0 1]';\n",
    "angle = (dot(noon,minuteHand)/(1*sqrt(dot(minuteHand,minuteHand))));\n",
    "arc = acos(angle);\n",
    "\n",
    "printf(\"The minute hand has wandered along the clock for %d radiants.\\n\", arc)\n",
    "\n",
    "# The angle result is in radiants. As this is the unit circle, it is equal to the length of the arc.\n",
    "percentile = arc / (2*pi);\n",
    "minutes = percentile * 60;\n",
    "\n",
    "printf(\"Accordingly, the time passed is %d minutes.\", minutes)"
   ]
  },
  {
   "cell_type": "markdown",
   "metadata": {},
   "source": [
    "## Row and column picture of linear equations\n",
    "Try to solve the system of two equations:\n",
    "$$\\begin{array}{c}{x-2 y=1} \\\\ {3 x+2 y=11}\\end{array}$$\n",
    "in the two unknowns $x$ and $y$ using the row picture and the column picture. Despict both methods in the $(x,y)$-plane."
   ]
  },
  {
   "cell_type": "code",
   "execution_count": null,
   "metadata": {},
   "outputs": [],
   "source": []
  },
  {
   "cell_type": "markdown",
   "metadata": {},
   "source": [
    "## Elimination\n",
    "What multiple $l_{21}$ of equation $1$ should be subtracted from equation $2$?\n",
    "$$\\begin{aligned} 2 x+3 y &=1 \\\\ 10 x+9 y &=11 \\end{aligned}$$\n",
    "After the elimination step, write down the upper triangular system and circle the two pivots.\n"
   ]
  },
  {
   "cell_type": "code",
   "execution_count": null,
   "metadata": {},
   "outputs": [],
   "source": []
  },
  {
   "cell_type": "markdown",
   "metadata": {},
   "source": [
    "## Back substitution\n",
    "Solve the triangular system of the previous problem by back substitution, $y$ before $x$. Verify that $x$ times the first column of the original coefficient matrix plus $y$ times the second column equals the right hand side. If the right hand side changes to $[4,44]$, what is the new solution?"
   ]
  },
  {
   "cell_type": "code",
   "execution_count": null,
   "metadata": {},
   "outputs": [],
   "source": []
  },
  {
   "cell_type": "markdown",
   "metadata": {},
   "source": [
    "## Elimination with 3 equations\n",
    "Reduce this system to upper triangular form by two row operations:\n",
    "$$\\begin{aligned} 2 x-3 y &=8 \\\\ 4 x-7 y+z &=20 \\\\-2 y+2 z &=0 \\end{aligned}$$\n",
    "Circle the pivots. Solve by back substitution for z, y and x."
   ]
  },
  {
   "cell_type": "code",
   "execution_count": null,
   "metadata": {},
   "outputs": [],
   "source": []
  },
  {
   "cell_type": "markdown",
   "metadata": {},
   "source": [
    "## Elimination for 3D matrices\n",
    "Solve the system of equations of the previous problem using the matrix notation. What are the corresponding elimination matrices? Multiply the elimination matrices (from the left) with the coefficient matrix $A$. Do you get an upper triangular matrix?"
   ]
  },
  {
   "cell_type": "code",
   "execution_count": null,
   "metadata": {},
   "outputs": [],
   "source": []
  },
  {
   "cell_type": "markdown",
   "metadata": {},
   "source": [
    "## Matrix for Row Exchange\n",
    "Considering the coefficient matrix of the last problem; what matrix $P_{ij}$ exchanges row $2$ with row $3$?"
   ]
  },
  {
   "cell_type": "code",
   "execution_count": null,
   "metadata": {},
   "outputs": [],
   "source": []
  },
  {
   "cell_type": "markdown",
   "metadata": {},
   "source": [
    "## Gauss-Jordan\n",
    "Compute the inverse $A^{-1}$ of $\\boldsymbol{A}=\\left[\\begin{array}{rrr}{1} & {0} & {0} \\\\ {-1} & {1} & {0} \\\\ {0} & {-1} & {1}\\end{array}\\right]$. \n",
    "\n",
    "Check the result by computing $A^{-1}A$.\n",
    "\n",
    "Difficult addon: When does the inverse of a matrix not exist?"
   ]
  },
  {
   "cell_type": "code",
   "execution_count": null,
   "metadata": {},
   "outputs": [],
   "source": []
  },
  {
   "cell_type": "markdown",
   "metadata": {},
   "source": [
    "## The augmented matrix\n",
    "Write down the augmented matrix $[A b]$ with an extra column:\n",
    "$$\\begin{aligned} x+2 y+2 z &=1 \\\\ 4 x+8 y+9 z &=3 \\\\ 3 y+2 z &=1 \\end{aligned}$$\n",
    "\n",
    "Apply $E_{21}$ and $P_{32}$ to reach a triangular system. Solve by back substitution. What combined matrix $P_{32}E_{21}$ will do both steps at once?"
   ]
  },
  {
   "cell_type": "code",
   "execution_count": null,
   "metadata": {},
   "outputs": [],
   "source": []
  },
  {
   "cell_type": "markdown",
   "metadata": {},
   "source": [
    "## LU-Factorization\n",
    "Write down the LU-factorization of the coefficient matrix of the previous problem."
   ]
  },
  {
   "cell_type": "code",
   "execution_count": null,
   "metadata": {},
   "outputs": [],
   "source": []
  },
  {
   "cell_type": "markdown",
   "metadata": {},
   "source": [
    "## Reducing to row echelon form using Octave\n",
    "The following Octave function reduces an $m \\times n$-matrix (with $m = n$) to row echelon form. Test the code using the previous problems!"
   ]
  },
  {
   "cell_type": "code",
   "execution_count": 6,
   "metadata": {},
   "outputs": [
    {
     "name": "stdout",
     "output_type": "stream",
     "text": [
      "error: 'A' undefined near line 1 column 10\n",
      "error: 'A' undefined near line 1 column 10\n"
     ]
    }
   ],
   "source": [
    "function [L U] = RowEchelonForm(A)\n",
    "  [m, n] = size(A)\n",
    "\n",
    "  for k=1:m\n",
    "    for i=k+1:m\n",
    "      fact = A(i,k)/A(k,k); \n",
    "      for j=k:n\n",
    "        A(i,j) = A(i,j) - fact*A(k,j);\n",
    "      end\n",
    "      A(i,k) = fact;\n",
    "    end \n",
    "  end\n",
    "endfunction\n",
    "\n",
    "U = triu(A);\n",
    "L = tril(A,-1) + eye(m,n);"
   ]
  },
  {
   "cell_type": "code",
   "execution_count": null,
   "metadata": {},
   "outputs": [],
   "source": []
  }
 ],
 "metadata": {
  "kernelspec": {
   "display_name": "Octave",
   "language": "octave",
   "name": "octave"
  },
  "language_info": {
   "file_extension": ".m",
   "help_links": [
    {
     "text": "GNU Octave",
     "url": "https://www.gnu.org/software/octave/support.html"
    },
    {
     "text": "Octave Kernel",
     "url": "https://github.com/Calysto/octave_kernel"
    },
    {
     "text": "MetaKernel Magics",
     "url": "https://metakernel.readthedocs.io/en/latest/source/README.html"
    }
   ],
   "mimetype": "text/x-octave",
   "name": "octave",
   "version": "5.1.0"
  }
 },
 "nbformat": 4,
 "nbformat_minor": 4
}
